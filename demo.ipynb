{
 "cells": [
  {
   "cell_type": "code",
   "execution_count": 1,
   "metadata": {},
   "outputs": [],
   "source": [
    "import time\n",
    "import os\n",
    "import numpy as np\n",
    "\n",
    "import torchvision\n",
    "import torchvision.transforms as transforms\n",
    "from torch.utils.data import Dataset\n",
    "import torchvision.models as models\n",
    "\n",
    "import torch\n",
    "import torch.nn as nn\n",
    "import torch.nn.functional as F\n",
    "import torch.backends.cudnn as cudnn\n",
    "import torch.optim as optim\n",
    "\n",
    "from Net import double \n",
    "from Mydataset import MyDataSet, ValDataSet"
   ]
  },
  {
   "cell_type": "code",
   "execution_count": 10,
   "metadata": {},
   "outputs": [
    {
     "name": "stdout",
     "output_type": "stream",
     "text": [
      "cpu\n"
     ]
    },
    {
     "data": {
      "text/plain": [
       "IncompatibleKeys(missing_keys=[], unexpected_keys=[])"
      ]
     },
     "execution_count": 10,
     "metadata": {},
     "output_type": "execute_result"
    }
   ],
   "source": [
    "    test_transform = transforms.Compose(\n",
    "            [transforms.Resize((32,32)),\n",
    "           transforms.ToTensor(),\n",
    "            transforms.Normalize((0.5,), (0.5,))])\n",
    "    val_set = ValDataSet(test_transform)\n",
    "    val_loader = torch.utils.data.DataLoader(val_set, batch_size=32, shuffle=False)\n",
    "    device = 'cuda' if torch.cuda.is_available() else 'cpu'\n",
    "    device = \"cpu\"\n",
    "    print(device)\n",
    "    net = double()\n",
    "    net = net.to(device)\n",
    "    #net.load_state_dict(torch.load(\"weight/test.pth\"))#classificate.pth\n",
    "    net.load_state_dict(torch.load(\"weight/classificate.pth\"))#classificate.pth\n"
   ]
  },
  {
   "cell_type": "code",
   "execution_count": 15,
   "metadata": {},
   "outputs": [],
   "source": [
    "out = []\n",
    "lab = []\n",
    "with torch.no_grad():\n",
    "    for data in val_loader:\n",
    "            img1, img2, labels = data\n",
    "            img1 = img1.to(device)\n",
    "            img2 = img2.to(device)\n",
    "            labels = labels.reshape(-1,1)\n",
    "            labels = labels.to(device)\n",
    "\n",
    "            outputs = net(img1, img2)\n",
    "            _, preds = torch.max(outputs, 1)\n",
    "\n",
    "            out += list(preds)\n",
    "            lab += list(labels)\n",
    "\n",
    "            #test_loss = criterion(outputs, labels)\n",
    "            #total_test_loss[0] += test_loss.item()\n",
    "            #total_test_loss[1] += 1"
   ]
  },
  {
   "cell_type": "code",
   "execution_count": 16,
   "metadata": {},
   "outputs": [],
   "source": [
    "    src_transform = transforms.Compose(\n",
    "            [transforms.Resize((32,32)),\n",
    "           transforms.ToTensor()])\n",
    "    src_set = ValDataSet(src_transform)\n",
    "    src_loader = torch.utils.data.DataLoader(src_set, batch_size=32, shuffle=False)"
   ]
  },
  {
   "cell_type": "code",
   "execution_count": null,
   "metadata": {},
   "outputs": [],
   "source": []
  },
  {
   "cell_type": "code",
   "execution_count": 26,
   "metadata": {},
   "outputs": [
    {
     "name": "stdout",
     "output_type": "stream",
     "text": [
      "pred tensor(3)\n",
      "GT tensor([2])\n"
     ]
    },
    {
     "data": {
      "image/png": "[encoded data removed]",
      "text/plain": [
       "<Figure size 432x288 with 2 Axes>"
      ]
     },
     "metadata": {
      "needs_background": "light"
     },
     "output_type": "display_data"
    }
   ],
   "source": [
    "import os \n",
    "os.environ[\"KMP_DUPLICATE_LIB_OK\"] = \"True\"\n",
    "import matplotlib.pyplot as plt\n",
    "ki = 102\n",
    "plt.subplot(1,2,1)\n",
    "plt.imshow(src_set[ki][0][0])\n",
    "plt.subplot(1,2,2)\n",
    "plt.imshow(src_set[ki][1][0])\n",
    "print(\"pred\",out[ki])\n",
    "print(\"GT\",lab[ki])\n",
    "plt.gray()\n",
    "plt.show()"
   ]
  },
  {
   "cell_type": "markdown",
   "metadata": {},
   "source": [
    "###### print(*outputs)"
   ]
  },
  {
   "cell_type": "code",
   "execution_count": 27,
   "metadata": {},
   "outputs": [
    {
     "data": {
      "text/plain": [
       "0.18"
      ]
     },
     "execution_count": 27,
     "metadata": {},
     "output_type": "execute_result"
    }
   ],
   "source": [
    "from sklearn.metrics import accuracy_score as acc\n",
    "acc(out, lab)"
   ]
  },
  {
   "cell_type": "code",
   "execution_count": 28,
   "metadata": {},
   "outputs": [
    {
     "name": "stdout",
     "output_type": "stream",
     "text": [
      "tensor(0) tensor([0])\n",
      "tensor(2) tensor([1])\n",
      "tensor(2) tensor([2])\n",
      "tensor(7) tensor([3])\n",
      "tensor(12) tensor([4])\n",
      "tensor(1) tensor([5])\n",
      "tensor(5) tensor([6])\n",
      "tensor(7) tensor([7])\n",
      "tensor(7) tensor([8])\n",
      "tensor(11) tensor([9])\n",
      "tensor(3) tensor([1])\n",
      "tensor(10) tensor([2])\n",
      "tensor(8) tensor([3])\n",
      "tensor(10) tensor([4])\n",
      "tensor(10) tensor([5])\n",
      "tensor(3) tensor([6])\n",
      "tensor(11) tensor([7])\n",
      "tensor(7) tensor([8])\n",
      "tensor(10) tensor([9])\n",
      "tensor(10) tensor([10])\n"
     ]
    }
   ],
   "source": [
    "for i in range(20):\n",
    "    print(out[i], lab[i])"
   ]
  },
  {
   "cell_type": "code",
   "execution_count": null,
   "metadata": {},
   "outputs": [],
   "source": []
  },
  {
   "cell_type": "code",
   "execution_count": null,
   "metadata": {},
   "outputs": [],
   "source": []
  }
 ],
 "metadata": {
  "kernelspec": {
   "display_name": "Python 3",
   "language": "python",
   "name": "python3"
  },
  "language_info": {
   "codemirror_mode": {
    "name": "ipython",
    "version": 3
   },
   "file_extension": ".py",
   "mimetype": "text/x-python",
   "name": "python",
   "nbconvert_exporter": "python",
   "pygments_lexer": "ipython3",
   "version": "3.6.7"
  }
 },
 "nbformat": 4,
 "nbformat_minor": 2
}
